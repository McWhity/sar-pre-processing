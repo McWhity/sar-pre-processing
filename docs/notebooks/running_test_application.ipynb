{
 "cells": [
  {
   "cell_type": "markdown",
   "metadata": {},
   "source": [
    "# Run test application"
   ]
  },
  {
   "cell_type": "markdown",
   "metadata": {},
   "source": [
    "## 1. Download sample data from Sentinel Data Hub"
   ]
  },
  {
   "cell_type": "code",
   "execution_count": 1,
   "metadata": {},
   "outputs": [
    {
     "name": "stdout",
     "output_type": "stream",
     "text": [
      "Requirement already satisfied: sentinelsat==0.13 in /home/wodan/anaconda3/lib/python3.7/site-packages (0.13)\n",
      "Requirement already satisfied: geomet in /home/wodan/anaconda3/lib/python3.7/site-packages (from sentinelsat==0.13) (0.2.1.post1)\n",
      "Requirement already satisfied: requests in /home/wodan/anaconda3/lib/python3.7/site-packages (from sentinelsat==0.13) (2.22.0)\n",
      "Requirement already satisfied: click in /home/wodan/anaconda3/lib/python3.7/site-packages (from sentinelsat==0.13) (7.0)\n",
      "Requirement already satisfied: tqdm in /home/wodan/anaconda3/lib/python3.7/site-packages (from sentinelsat==0.13) (4.42.1)\n",
      "Requirement already satisfied: html2text in /home/wodan/anaconda3/lib/python3.7/site-packages (from sentinelsat==0.13) (2020.1.16)\n",
      "Requirement already satisfied: six in /home/wodan/anaconda3/lib/python3.7/site-packages (from sentinelsat==0.13) (1.14.0)\n",
      "Requirement already satisfied: geojson>=2 in /home/wodan/anaconda3/lib/python3.7/site-packages (from sentinelsat==0.13) (2.5.0)\n",
      "Requirement already satisfied: idna<2.9,>=2.5 in /home/wodan/anaconda3/lib/python3.7/site-packages (from requests->sentinelsat==0.13) (2.8)\n",
      "Requirement already satisfied: certifi>=2017.4.17 in /home/wodan/anaconda3/lib/python3.7/site-packages (from requests->sentinelsat==0.13) (2019.11.28)\n",
      "Requirement already satisfied: urllib3!=1.25.0,!=1.25.1,<1.26,>=1.21.1 in /home/wodan/anaconda3/lib/python3.7/site-packages (from requests->sentinelsat==0.13) (1.25.8)\n",
      "Requirement already satisfied: chardet<3.1.0,>=3.0.2 in /home/wodan/anaconda3/lib/python3.7/site-packages (from requests->sentinelsat==0.13) (3.0.4)\n"
     ]
    }
   ],
   "source": [
    "# Install python package sentinelsat\n",
    "! pip install sentinelsat==0.13 --user"
   ]
  },
  {
   "cell_type": "code",
   "execution_count": 2,
   "metadata": {},
   "outputs": [],
   "source": [
    "# connect to the API\n",
    "from sentinelsat import SentinelAPI, read_geojson, geojson_to_wkt\n",
    "from datetime import date"
   ]
  },
  {
   "cell_type": "markdown",
   "metadata": {},
   "source": [
    "### <span style=\"color:red\">Create Account (https://scihub.copernicus.eu/dhus/#/self-registration) and change user and password below</span>."
   ]
  },
  {
   "cell_type": "code",
   "execution_count": null,
   "metadata": {},
   "outputs": [],
   "source": [
    "user = 'username'\n",
    "password = 'password'"
   ]
  },
  {
   "cell_type": "code",
   "execution_count": null,
   "metadata": {},
   "outputs": [],
   "source": [
    "# initialize settings\n",
    "api = SentinelAPI(user, password, 'https://scihub.copernicus.eu/apihub/')"
   ]
  },
  {
   "cell_type": "code",
   "execution_count": null,
   "metadata": {},
   "outputs": [],
   "source": [
    "# search by polygon (MNI test site coordinates), time, and SciHub query keywords\n",
    "footprint = geojson_to_wkt(read_geojson('coordinates_mni.geojson'))\n",
    "products = api.query(footprint,\n",
    "                     date=('20200101', '20200120'),\n",
    "                     platformname='Sentinel-1',\n",
    "                     producttype='SLC')\n",
    "print('Following products will be downloaded')\n",
    "print(api.to_dataframe(products).title.values)\n",
    "\n",
    "print('These {} product need {} Gb of disk space'.format(len(products), api.get_products_size(products)))"
   ]
  },
  {
   "cell_type": "markdown",
   "metadata": {},
   "source": [
    "Start download process (attention: might take a while and will need free some disk space)"
   ]
  },
  {
   "cell_type": "code",
   "execution_count": null,
   "metadata": {},
   "outputs": [],
   "source": [
    "import os\n",
    "\n",
    "# download all results from the search\n",
    "api.download_all(products,os.getcwd()+'/test_files')"
   ]
  },
  {
   "cell_type": "markdown",
   "metadata": {},
   "source": [
    "## 2. Process SAR data"
   ]
  },
  {
   "cell_type": "code",
   "execution_count": null,
   "metadata": {},
   "outputs": [],
   "source": [
    "input_folder = os.getcwd()+'/test_files'\n",
    "output_folder = os.getcwd()+'/test_files'\n",
    "gpt_location = '/home/tweiss/snap/bin/gpt'"
   ]
  },
  {
   "cell_type": "code",
   "execution_count": null,
   "metadata": {},
   "outputs": [],
   "source": [
    "import yaml\n",
    "\n",
    "with open('sample_config_file.yaml') as stream:\n",
    "   data = yaml.safe_load(stream)\n",
    "\n",
    "data['input_folder'] = input_folder\n",
    "data['output_folder'] = output_folder\n",
    "data['gpt'] = gpt_location\n",
    "\n",
    "with open('test_config_file.yaml', 'wb') as stream:\n",
    "   yaml.safe_dump(data, stream, default_flow_style=False, \n",
    "                  explicit_start=True, allow_unicode=True, encoding='utf-8')"
   ]
  },
  {
   "cell_type": "code",
   "execution_count": null,
   "metadata": {},
   "outputs": [],
   "source": [
    "from sar_pre_processing.sar_pre_processor import *\n",
    "import warnings\n",
    "warnings.filterwarnings(\"ignore\")\n",
    "\n",
    "processing = SARPreProcessor(config='test_config_file.yaml')\n",
    "processing.create_processing_file_list()\n",
    "print('start step 1')\n",
    "processing.pre_process_step1()\n",
    "print('start step 2')\n",
    "processing.pre_process_step2()\n",
    "print('start step 3')\n",
    "processing.pre_process_step3()\n",
    "print('start solve projection problem')\n",
    "processing.solve_projection_problem()\n",
    "print('start add netcdf information')\n",
    "processing.add_netcdf_information()\n",
    "print('start create netcdf stack')\n",
    "processing.create_netcdf_stack()"
   ]
  },
  {
   "cell_type": "code",
   "execution_count": null,
   "metadata": {},
   "outputs": [],
   "source": []
  }
 ],
 "metadata": {
  "kernelspec": {
   "display_name": "Python 3",
   "language": "python",
   "name": "python3"
  },
  "language_info": {
   "codemirror_mode": {
    "name": "ipython",
    "version": 3
   },
   "file_extension": ".py",
   "mimetype": "text/x-python",
   "name": "python",
   "nbconvert_exporter": "python",
   "pygments_lexer": "ipython3",
   "version": "3.7.6"
  }
 },
 "nbformat": 4,
 "nbformat_minor": 2
}
